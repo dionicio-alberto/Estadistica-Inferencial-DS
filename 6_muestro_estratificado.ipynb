{
 "cells": [
  {
   "attachments": {},
   "cell_type": "markdown",
   "metadata": {},
   "source": [
    "# Muestreo estraticado en python"
   ]
  },
  {
   "cell_type": "code",
   "execution_count": 34,
   "metadata": {},
   "outputs": [],
   "source": [
    "import pandas as pd \n",
    "import numpy as np\n",
    "import random\n",
    "import matplotlib.pyplot as plt\n",
    "import seaborn as sns\n",
    "\n",
    "econdata = pd.read_csv('eco.csv')"
   ]
  },
  {
   "attachments": {},
   "cell_type": "markdown",
   "metadata": {},
   "source": [
    "-----\n",
    "\n",
    "## 3) Muestro estratificado"
   ]
  },
  {
   "cell_type": "code",
   "execution_count": 35,
   "metadata": {},
   "outputs": [],
   "source": [
    "econdata = econdata.replace(['Cuautémoc'],['Cuauhtémoc'])"
   ]
  },
  {
   "cell_type": "code",
   "execution_count": 65,
   "metadata": {},
   "outputs": [
    {
     "data": {
      "text/html": [
       "<div>\n",
       "<style scoped>\n",
       "    .dataframe tbody tr th:only-of-type {\n",
       "        vertical-align: middle;\n",
       "    }\n",
       "\n",
       "    .dataframe tbody tr th {\n",
       "        vertical-align: top;\n",
       "    }\n",
       "\n",
       "    .dataframe thead th {\n",
       "        text-align: right;\n",
       "    }\n",
       "</style>\n",
       "<table border=\"1\" class=\"dataframe\">\n",
       "  <thead>\n",
       "    <tr style=\"text-align: right;\">\n",
       "      <th></th>\n",
       "      <th>id</th>\n",
       "      <th>geo_point_2d</th>\n",
       "      <th>geo_shape</th>\n",
       "      <th>clave_cat</th>\n",
       "      <th>delegacion</th>\n",
       "      <th>perimetro</th>\n",
       "      <th>tipo</th>\n",
       "      <th>nom_id</th>\n",
       "      <th>estratificado</th>\n",
       "    </tr>\n",
       "  </thead>\n",
       "  <tbody>\n",
       "    <tr>\n",
       "      <th>0</th>\n",
       "      <td>0</td>\n",
       "      <td>19.424781053,-99.1327537959</td>\n",
       "      <td>{\"type\": \"Polygon\", \"coordinates\": [[[-99.1332...</td>\n",
       "      <td>307_130_11</td>\n",
       "      <td>Cuauhtémoc</td>\n",
       "      <td>B</td>\n",
       "      <td>Mercado</td>\n",
       "      <td>Pino Suárez</td>\n",
       "      <td>Cuauhtémoc,Mercado</td>\n",
       "    </tr>\n",
       "    <tr>\n",
       "      <th>1</th>\n",
       "      <td>1</td>\n",
       "      <td>19.4346139576,-99.1413808393</td>\n",
       "      <td>{\"type\": \"MultiPoint\", \"coordinates\": [[-99.14...</td>\n",
       "      <td>002_008_01</td>\n",
       "      <td>Cuauhtémoc</td>\n",
       "      <td>A</td>\n",
       "      <td>Museo</td>\n",
       "      <td>Museo Nacional de Arquitectura Palacio de Bell...</td>\n",
       "      <td>Cuauhtémoc,Museo</td>\n",
       "    </tr>\n",
       "    <tr>\n",
       "      <th>2</th>\n",
       "      <td>2</td>\n",
       "      <td>19.4340695945,-99.1306348409</td>\n",
       "      <td>{\"type\": \"MultiPoint\", \"coordinates\": [[-99.13...</td>\n",
       "      <td>006_002_12</td>\n",
       "      <td>Cuauhtémoc</td>\n",
       "      <td>A</td>\n",
       "      <td>Museo</td>\n",
       "      <td>Santa Teresa</td>\n",
       "      <td>Cuauhtémoc,Museo</td>\n",
       "    </tr>\n",
       "    <tr>\n",
       "      <th>3</th>\n",
       "      <td>3</td>\n",
       "      <td>19.42489472,-99.12073393</td>\n",
       "      <td>{\"type\": \"MultiPoint\", \"coordinates\": [[-99.12...</td>\n",
       "      <td>323_102_06</td>\n",
       "      <td>Venustiano Carranza</td>\n",
       "      <td>B</td>\n",
       "      <td>Hotel</td>\n",
       "      <td>Balbuena</td>\n",
       "      <td>Venustiano Carranza,Hotel</td>\n",
       "    </tr>\n",
       "    <tr>\n",
       "      <th>4</th>\n",
       "      <td>4</td>\n",
       "      <td>19.42358238,-99.12451093</td>\n",
       "      <td>{\"type\": \"MultiPoint\", \"coordinates\": [[-99.12...</td>\n",
       "      <td>323_115_12</td>\n",
       "      <td>Venustiano Carranza</td>\n",
       "      <td>B</td>\n",
       "      <td>Hotel</td>\n",
       "      <td>real</td>\n",
       "      <td>Venustiano Carranza,Hotel</td>\n",
       "    </tr>\n",
       "    <tr>\n",
       "      <th>...</th>\n",
       "      <td>...</td>\n",
       "      <td>...</td>\n",
       "      <td>...</td>\n",
       "      <td>...</td>\n",
       "      <td>...</td>\n",
       "      <td>...</td>\n",
       "      <td>...</td>\n",
       "      <td>...</td>\n",
       "      <td>...</td>\n",
       "    </tr>\n",
       "    <tr>\n",
       "      <th>225</th>\n",
       "      <td>225</td>\n",
       "      <td>19.43094655,-99.12455418</td>\n",
       "      <td>{\"type\": \"MultiPoint\", \"coordinates\": [[-99.12...</td>\n",
       "      <td>323_027_04</td>\n",
       "      <td>Venustiano Carranza</td>\n",
       "      <td>B</td>\n",
       "      <td>Hotel</td>\n",
       "      <td>Gran Veracruz</td>\n",
       "      <td>Venustiano Carranza,Hotel</td>\n",
       "    </tr>\n",
       "    <tr>\n",
       "      <th>226</th>\n",
       "      <td>226</td>\n",
       "      <td>19.4416748524,-99.1365878489</td>\n",
       "      <td>{\"type\": \"Polygon\", \"coordinates\": [[[-99.1370...</td>\n",
       "      <td>004_052_01</td>\n",
       "      <td>Cuauhtémoc</td>\n",
       "      <td>B</td>\n",
       "      <td>Mercado</td>\n",
       "      <td>De Muebles</td>\n",
       "      <td>Cuauhtémoc,Mercado</td>\n",
       "    </tr>\n",
       "    <tr>\n",
       "      <th>227</th>\n",
       "      <td>227</td>\n",
       "      <td>19.4307201342,-99.1491381087</td>\n",
       "      <td>{\"type\": \"Polygon\", \"coordinates\": [[[-99.1498...</td>\n",
       "      <td>002_052_02</td>\n",
       "      <td>Cuauhtémoc</td>\n",
       "      <td>B</td>\n",
       "      <td>Mercado</td>\n",
       "      <td>Artesanías Ciudadela</td>\n",
       "      <td>Cuauhtémoc,Mercado</td>\n",
       "    </tr>\n",
       "    <tr>\n",
       "      <th>228</th>\n",
       "      <td>228</td>\n",
       "      <td>19.4406567734,-99.1394531646</td>\n",
       "      <td>{\"type\": \"MultiPoint\", \"coordinates\": [[-99.13...</td>\n",
       "      <td>004_069_01</td>\n",
       "      <td>Cuauhtémoc</td>\n",
       "      <td>B</td>\n",
       "      <td>Museo</td>\n",
       "      <td>Tequila y Mescal</td>\n",
       "      <td>Cuauhtémoc,Museo</td>\n",
       "    </tr>\n",
       "    <tr>\n",
       "      <th>229</th>\n",
       "      <td>229</td>\n",
       "      <td>19.4346765421,-99.1318394918</td>\n",
       "      <td>{\"type\": \"MultiPoint\", \"coordinates\": [[-99.13...</td>\n",
       "      <td>005_145_14</td>\n",
       "      <td>Cuauhtémoc</td>\n",
       "      <td>A</td>\n",
       "      <td>Museo</td>\n",
       "      <td>Templo Mayor</td>\n",
       "      <td>Cuauhtémoc,Museo</td>\n",
       "    </tr>\n",
       "  </tbody>\n",
       "</table>\n",
       "<p>230 rows × 9 columns</p>\n",
       "</div>"
      ],
      "text/plain": [
       "      id                  geo_point_2d  \\\n",
       "0      0   19.424781053,-99.1327537959   \n",
       "1      1  19.4346139576,-99.1413808393   \n",
       "2      2  19.4340695945,-99.1306348409   \n",
       "3      3      19.42489472,-99.12073393   \n",
       "4      4      19.42358238,-99.12451093   \n",
       "..   ...                           ...   \n",
       "225  225      19.43094655,-99.12455418   \n",
       "226  226  19.4416748524,-99.1365878489   \n",
       "227  227  19.4307201342,-99.1491381087   \n",
       "228  228  19.4406567734,-99.1394531646   \n",
       "229  229  19.4346765421,-99.1318394918   \n",
       "\n",
       "                                             geo_shape   clave_cat  \\\n",
       "0    {\"type\": \"Polygon\", \"coordinates\": [[[-99.1332...  307_130_11   \n",
       "1    {\"type\": \"MultiPoint\", \"coordinates\": [[-99.14...  002_008_01   \n",
       "2    {\"type\": \"MultiPoint\", \"coordinates\": [[-99.13...  006_002_12   \n",
       "3    {\"type\": \"MultiPoint\", \"coordinates\": [[-99.12...  323_102_06   \n",
       "4    {\"type\": \"MultiPoint\", \"coordinates\": [[-99.12...  323_115_12   \n",
       "..                                                 ...         ...   \n",
       "225  {\"type\": \"MultiPoint\", \"coordinates\": [[-99.12...  323_027_04   \n",
       "226  {\"type\": \"Polygon\", \"coordinates\": [[[-99.1370...  004_052_01   \n",
       "227  {\"type\": \"Polygon\", \"coordinates\": [[[-99.1498...  002_052_02   \n",
       "228  {\"type\": \"MultiPoint\", \"coordinates\": [[-99.13...  004_069_01   \n",
       "229  {\"type\": \"MultiPoint\", \"coordinates\": [[-99.13...  005_145_14   \n",
       "\n",
       "              delegacion perimetro     tipo  \\\n",
       "0             Cuauhtémoc         B  Mercado   \n",
       "1             Cuauhtémoc         A    Museo   \n",
       "2             Cuauhtémoc         A    Museo   \n",
       "3    Venustiano Carranza         B    Hotel   \n",
       "4    Venustiano Carranza         B    Hotel   \n",
       "..                   ...       ...      ...   \n",
       "225  Venustiano Carranza         B    Hotel   \n",
       "226           Cuauhtémoc         B  Mercado   \n",
       "227           Cuauhtémoc         B  Mercado   \n",
       "228           Cuauhtémoc         B    Museo   \n",
       "229           Cuauhtémoc         A    Museo   \n",
       "\n",
       "                                                nom_id  \\\n",
       "0                                          Pino Suárez   \n",
       "1    Museo Nacional de Arquitectura Palacio de Bell...   \n",
       "2                                         Santa Teresa   \n",
       "3                                             Balbuena   \n",
       "4                                                 real   \n",
       "..                                                 ...   \n",
       "225                                      Gran Veracruz   \n",
       "226                                         De Muebles   \n",
       "227                               Artesanías Ciudadela   \n",
       "228                                   Tequila y Mescal   \n",
       "229                                       Templo Mayor   \n",
       "\n",
       "                 estratificado  \n",
       "0           Cuauhtémoc,Mercado  \n",
       "1             Cuauhtémoc,Museo  \n",
       "2             Cuauhtémoc,Museo  \n",
       "3    Venustiano Carranza,Hotel  \n",
       "4    Venustiano Carranza,Hotel  \n",
       "..                         ...  \n",
       "225  Venustiano Carranza,Hotel  \n",
       "226         Cuauhtémoc,Mercado  \n",
       "227         Cuauhtémoc,Mercado  \n",
       "228           Cuauhtémoc,Museo  \n",
       "229           Cuauhtémoc,Museo  \n",
       "\n",
       "[230 rows x 9 columns]"
      ]
     },
     "execution_count": 65,
     "metadata": {},
     "output_type": "execute_result"
    }
   ],
   "source": [
    "econdata['estratificado'] = econdata['delegacion'] + ',' + econdata['tipo']\n",
    "econdata"
   ]
  },
  {
   "cell_type": "code",
   "execution_count": 43,
   "metadata": {},
   "outputs": [
    {
     "data": {
      "text/plain": [
       "Cuauhtémoc,Hotel               0.643478\n",
       "Cuauhtémoc,Museo               0.156522\n",
       "Venustiano Carranza,Hotel      0.078261\n",
       "Cuauhtémoc,Mercado             0.073913\n",
       "Venustiano Carranza,Mercado    0.047826\n",
       "Name: estratificado, dtype: float64"
      ]
     },
     "execution_count": 43,
     "metadata": {},
     "output_type": "execute_result"
    }
   ],
   "source": [
    "(\n",
    "    econdata['estratificado']\n",
    "    .value_counts()/len(econdata)\n",
    ").sort_values(ascending=False)"
   ]
  },
  {
   "attachments": {},
   "cell_type": "markdown",
   "metadata": {},
   "source": [
    "Nuestros datos dicen que la proporcion es la siguiente"
   ]
  },
  {
   "cell_type": "code",
   "execution_count": 51,
   "metadata": {},
   "outputs": [
    {
     "data": {
      "image/png": "[encoded data removed]",
      "text/plain": [
       "<Figure size 640x480 with 1 Axes>"
      ]
     },
     "metadata": {},
     "output_type": "display_data"
    }
   ],
   "source": [
    "(\n",
    "    econdata['estratificado']\n",
    "    .value_counts()/len(econdata)\n",
    ").plot(kind='pie')\n",
    "\n",
    "plt.show()"
   ]
  },
  {
   "cell_type": "code",
   "execution_count": 79,
   "metadata": {},
   "outputs": [],
   "source": [
    "#Explicación de la función data_estratificada\n",
    "#Le agreugue el parametro tamaño de muestra para \n",
    "#hacer mas entendible la función\n",
    "\n",
    "#Definimos la función con sus variables\n",
    "def data_estratificad(econdata,nombres_columnas_estrat,\n",
    "                      valores_estrat, prop_estrat, \n",
    "                      tamano_muestra,random_state=None):\n",
    "    '''Función que dado un dataFrame toma una muestra estratificada\n",
    "    \n",
    "    Argumentos:\n",
    "    econdata {DataFrame}    -- DataFrame del cual tomaremos la muestra\n",
    "    nombres_columnas {list} -- Valores a partir de los cuales se va a estratificar el DataFrame\n",
    "    valores_estrat {list}   -- Valores del porcentaje de la muestra que tomara cada nombre de la lista anterior\n",
    "    tamano_muestra {int}    -- Cantidad de datos que tendra la muestra\n",
    "    random_state {int}      -- Función que nos permite elegir la semilla de los números pseudo-aleatorios\n",
    "    '''\n",
    "    \n",
    "    'Creamos un DataFrame vacio con las mismas columnas donde guardaremos los datos'\n",
    "    df_estrat = pd.DataFrame(columns= econdata.columns)\n",
    "    \n",
    "    'Contador auxiliar para ir pasando la lista'\n",
    "    pos = -1\n",
    "    \n",
    "    'Ciclo for el cual va cambiando los valores donde seleccionamos la cantidad de datos por cada nombre'\n",
    "    'Función range(len(valores_estrat)) nos indica que iremos desde 0 hasta la cantidad de entradas que tenga la lista valores_estrat'\n",
    "    'esto para recorrer toda la lista'\n",
    "    for i in range(len(valores_estrat)):\n",
    "        \n",
    "        'sumamos 1 a pos'\n",
    "        pos +=1\n",
    "        \n",
    "        'Ciclo if el cual nos ayudara a saber la cantidad de datos que vamos a extraer de cada clasificador'\n",
    "        'si posicion es igual a ultima:'\n",
    "        if pos == len(valores_estrat)-1:\n",
    "            'la cantidad de valores que obtendremos sera el tamaño de la muestra menos los que ya tenemos'\n",
    "            ratio_len = tamano_muestra - len(df_estrat)\n",
    "            'En caso de no sea la ultima posición'\n",
    "            \n",
    "        else:\n",
    "            'la cantidad de valores que tendremos para este clasificador se obtendra de la siguente forma'\n",
    "            'multiplicamos el tamaño de la muestra por la proporcion que corresponde a ese clasificador'\n",
    "            'como el valor puede no ser entero, lo convertimos en entero'\n",
    "            ratio_len = int(tamano_muestra*prop_estrat[i])\n",
    "        \n",
    "        'en el DataFrame df_filtrado filtramos los valores de la columna que incluyan al clasificador'\n",
    "        df_filtrado = econdata[econdata[nombres_columnas_estrat]==valores_estrat[i]]\n",
    "        \n",
    "        'obtenemos una muestra del tamano obtenido en ratio_len y la agregamos al dataFrame df_temp'\n",
    "        df_temp = df_filtrado.sample(replace=True, n=ratio_len, random_state=random_state)\n",
    "        \n",
    "        'Concatenamos la información al DataFrame df_estrat, de tal forma que se guardan los valores de todos los clasificadores'\n",
    "        df_estrat = pd.concat([df_estrat,df_temp])\n",
    "    return df_estrat"
   ]
  },
  {
   "cell_type": "code",
   "execution_count": 76,
   "metadata": {},
   "outputs": [
    {
     "data": {
      "text/plain": [
       "230"
      ]
     },
     "execution_count": 76,
     "metadata": {},
     "output_type": "execute_result"
    }
   ],
   "source": [
    "len(econdata)"
   ]
  },
  {
   "cell_type": "code",
   "execution_count": 86,
   "metadata": {},
   "outputs": [],
   "source": [
    "valores_estrat = ['Cuauhtémoc,Hotel','Cuauhtémoc,Museo','Venustiano Carranza,Hotel',\n",
    "                  'Cuauhtémoc,Mercado','Venustiano Carranza,Mercado']\n",
    "prop_estrat =[0.5, 0.2, 0.1, 0.1, 0.1]\n",
    "\n",
    "df_estrat = data_estratificad(econdata,'estratificado',40,valores_estrat,\n",
    "                              prop_estrat,random_state=42)"
   ]
  },
  {
   "cell_type": "code",
   "execution_count": 87,
   "metadata": {},
   "outputs": [
    {
     "data": {
      "text/plain": [
       "Cuauhtémoc,Hotel               0.5\n",
       "Cuauhtémoc,Museo               0.2\n",
       "Venustiano Carranza,Hotel      0.1\n",
       "Cuauhtémoc,Mercado             0.1\n",
       "Venustiano Carranza,Mercado    0.1\n",
       "Name: estratificado, dtype: float64"
      ]
     },
     "execution_count": 87,
     "metadata": {},
     "output_type": "execute_result"
    }
   ],
   "source": [
    "(df_estrat['estratificado'].value_counts()/len(df_estrat)).sort_values(ascending=False)"
   ]
  },
  {
   "cell_type": "code",
   "execution_count": 88,
   "metadata": {},
   "outputs": [
    {
     "data": {
      "text/plain": [
       "(40, 9)"
      ]
     },
     "execution_count": 88,
     "metadata": {},
     "output_type": "execute_result"
    }
   ],
   "source": [
    "df_estrat.shape"
   ]
  }
 ],
 "metadata": {
  "kernelspec": {
   "display_name": "platzi",
   "language": "python",
   "name": "python3"
  },
  "language_info": {
   "codemirror_mode": {
    "name": "ipython",
    "version": 3
   },
   "file_extension": ".py",
   "mimetype": "text/x-python",
   "name": "python",
   "nbconvert_exporter": "python",
   "pygments_lexer": "ipython3",
   "version": "3.11.3"
  },
  "orig_nbformat": 4
 },
 "nbformat": 4,
 "nbformat_minor": 2
}
